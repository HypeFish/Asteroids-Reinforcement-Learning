{
 "cells": [
  {
   "cell_type": "code",
   "execution_count": 2,
   "metadata": {},
   "outputs": [
    {
     "name": "stdout",
     "output_type": "stream",
     "text": [
      "Using cuda device\n"
     ]
    }
   ],
   "source": [
    "import numpy as np\n",
    "import matplotlib.pyplot as plt\n",
    "import torch.nn as nn\n",
    "import torch\n",
    "from torch.utils.data import Dataset, DataLoader\n",
    "from torch.optim import Adam\n",
    "from torchmetrics.classification import Accuracy\n",
    "import torch.nn.functional as F\n",
    "import gymnasium as gym\n",
    "%load_ext autoreload\n",
    "%autoreload 2\n",
    "device = (\n",
    "    \"cuda\"\n",
    "    if torch.cuda.is_available()\n",
    "    else \"mps\"\n",
    "    if torch.backends.mps.is_available()\n",
    "    else \"cpu\"\n",
    ")\n",
    "print(f\"Using {device} device\")"
   ]
  },
  {
   "cell_type": "code",
   "execution_count": 76,
   "metadata": {},
   "outputs": [],
   "source": [
    "class AngleNet(nn.Module):\n",
    "    def __init__(self):\n",
    "        super().__init__()\n",
    "        self.conv1 = nn.Conv2d(1, 4, 3)\n",
    "        self.pool = nn.MaxPool2d(2, 2)\n",
    "        self.fc1 = nn.Linear(7*7*4, 16)\n",
    "\n",
    "    def forward(self, x):\n",
    "        x.to(device)\n",
    "        x = F.relu(self.conv1(x))\n",
    "        x = self.pool(x)\n",
    "        x = torch.flatten(x, 1)\n",
    "        x = self.fc1(x)\n",
    "        x = x.to(\"cpu\")\n",
    "        return x\n",
    "\n",
    "    def prep_input(self, data, x_coords, y_coords):\n",
    "        angle_data = torch.zeros([data.shape[0], 1, 16, 16]).to(device)\n",
    "        for idx, item in enumerate(data):\n",
    "            angle_data[idx, 0, :, :] = item[0].roll([-105-y_coords[idx], -75-x_coords[idx]], [0, 1])[97:113, 80:96]\n",
    "        return angle_data"
   ]
  },
  {
   "cell_type": "code",
   "execution_count": 4,
   "metadata": {},
   "outputs": [],
   "source": [
    "class XNet(nn.Module):\n",
    "    def __init__(self):\n",
    "        super().__init__()\n",
    "        self.conv1 = nn.Conv2d(1, 96, 5, padding=2)\n",
    "        self.fc1 = nn.Linear(160*96, 160)\n",
    "    def forward(self, x):\n",
    "        x = x.to(device)\n",
    "        x = F.relu(self.conv1(x))\n",
    "        x = torch.amax(x, dim=2)\n",
    "        x = torch.flatten(x, 1)\n",
    "        x = self.fc1(x)\n",
    "        x = x.to(\"cpu\")\n",
    "        return x"
   ]
  },
  {
   "cell_type": "code",
   "execution_count": 5,
   "metadata": {},
   "outputs": [],
   "source": [
    "class YNet(nn.Module):\n",
    "    def __init__(self):\n",
    "        super().__init__()\n",
    "        self.conv1 = nn.Conv2d(1, 96, 5, padding=2)\n",
    "        self.fc1 = nn.Linear(210*96, 210)\n",
    "\n",
    "    def forward(self, x):\n",
    "        x = x.to(device)\n",
    "        x = F.relu(self.conv1(x))\n",
    "        x = torch.amax(x, dim=3)\n",
    "        x = torch.flatten(x, 1)\n",
    "        x = self.fc1(x)\n",
    "        x = x.to(\"cpu\")\n",
    "        return x"
   ]
  },
  {
   "cell_type": "code",
   "execution_count": 65,
   "metadata": {},
   "outputs": [],
   "source": [
    "class CerberusDataset(Dataset):\n",
    "    def __init__(self, num_samples):\n",
    "        self.num_samples = num_samples\n",
    "        self.env = gym.make('AsteroidsNoFrameskip-v4', obs_type=\"grayscale\")\n",
    "        obs, info = self.env.reset()\n",
    "        angle_states = torch.zeros([16, 210, 160])\n",
    "        for i in range(16):\n",
    "            self.env.step(4)\n",
    "            self.env.step(4)\n",
    "            self.env.step(4)\n",
    "            obs, reward, terminated, truncated, info = self.env.step(4)\n",
    "            angle_states[i] = torch.roll(torch.from_numpy(obs)/256, [105, 75], dims=[0, 1])\n",
    "        x_shifts = torch.randint(0, 160, [num_samples])\n",
    "        y_shifts = torch.randint(0, 210, [num_samples])\n",
    "        angles = torch.randint(0, 16, [num_samples])\n",
    "        data = torch.zeros([num_samples, 1, 210, 160])\n",
    "        for i in range(num_samples):\n",
    "            data[i][0] = torch.roll(angle_states[angles[i]], [y_shifts[i], x_shifts[i]], [0, 1])\n",
    "        self.data = data.to(device)\n",
    "        self.x_shifts = F.one_hot(x_shifts, num_classes=160).to(torch.float32)\n",
    "        self.y_shifts = F.one_hot(y_shifts, num_classes=210).to(torch.float32)\n",
    "        self.angles = F.one_hot(angles, num_classes=16).to(torch.float32)\n",
    "    def __len__(self):\n",
    "        return self.num_samples\n",
    "    def __getitem__(self, idx):\n",
    "        return self.data[idx], self.x_shifts[idx], self.y_shifts[idx], self.angles[idx]"
   ]
  },
  {
   "cell_type": "code",
   "execution_count": 96,
   "metadata": {},
   "outputs": [],
   "source": [
    "loss_fn = nn.CrossEntropyLoss()\n",
    "test_dataset = CerberusDataset(1000)\n",
    "x_net = XNet().to(device)\n",
    "y_net = YNet().to(device)\n",
    "angle_net = AngleNet().to(device)"
   ]
  },
  {
   "cell_type": "code",
   "execution_count": 97,
   "metadata": {},
   "outputs": [
    {
     "name": "stdout",
     "output_type": "stream",
     "text": [
      "X:1.0, Y:1.0, Angle:1.0\n"
     ]
    }
   ],
   "source": [
    "x_lr = 1e-3\n",
    "y_lr = 1e-3\n",
    "angle_lr = 1e-3\n",
    "epochs = 8\n",
    "angle_start = 0\n",
    "batch_size = 32\n",
    "num_samples = 1024\n",
    "x_optim = Adam(x_net.parameters(), lr=x_lr)\n",
    "y_optim = Adam(y_net.parameters(), lr=y_lr)\n",
    "angle_optim = Adam(angle_net.parameters(), lr=angle_lr)\n",
    "for epoch in range(epochs):\n",
    "    dataloader = DataLoader(CerberusDataset(num_samples), batch_size=batch_size)\n",
    "    for step, [data, x_shifts, y_shifts, angles] in enumerate(dataloader):\n",
    "\n",
    "        x_pred = x_net(data)\n",
    "        x_optim.zero_grad()\n",
    "        x_loss = loss_fn(x_pred, x_shifts)\n",
    "        x_loss.backward()\n",
    "        x_optim.step()\n",
    "\n",
    "        y_pred = y_net(data)\n",
    "        y_optim.zero_grad()\n",
    "        y_loss = loss_fn(y_pred, y_shifts)\n",
    "        y_loss.backward()\n",
    "        y_optim.step()\n",
    "        \n",
    "        if epoch > angle_start: # Only train angle network once x and y are relatively good\n",
    "            x_coords = torch.argmax(x_net(data), axis=1)\n",
    "            y_coords = torch.argmax(y_net(data), axis=1)\n",
    "            angle_data = angle_net.prep_input(data, x_coords, y_coords)\n",
    "            angle_pred = angle_net(angle_data)\n",
    "            angle_optim.zero_grad()\n",
    "            angle_loss = loss_fn(angle_pred, angles)\n",
    "            angle_loss.backward()\n",
    "            angle_optim.step()\n",
    "# Test models\n",
    "x_accuracy = Accuracy(task=\"multiclass\", num_classes=160).to(device)\n",
    "y_accuracy = Accuracy(task=\"multiclass\", num_classes=210).to(device)\n",
    "angle_accuracy = Accuracy(task=\"multiclass\", num_classes=16).to(device)\n",
    "\n",
    "test_dataloader = DataLoader(test_dataset, batch_size=32)\n",
    "for step, [data, x_shifts, y_shifts, angles] in enumerate(test_dataloader):\n",
    "    x_pred = torch.argmax(x_net(data), axis=1)\n",
    "    x_accuracy.update(x_pred, torch.argmax(x_shifts, axis=1))\n",
    "\n",
    "    y_pred = torch.argmax(y_net(data), axis=1)\n",
    "    y_accuracy.update(y_pred, torch.argmax(y_shifts, axis=1))\n",
    "    \n",
    "    x_coords = torch.argmax(x_net(data), axis=1)\n",
    "    y_coords = torch.argmax(y_net(data), axis=1)\n",
    "    angle_data = angle_net.prep_input(data, x_coords, y_coords)\n",
    "    angle_pred = torch.argmax(angle_net(angle_data), axis=1)\n",
    "    angle_accuracy.update(angle_pred, torch.argmax(angles, axis=1))\n",
    "print(f'X:{x_accuracy.compute()}, Y:{y_accuracy.compute()}, Angle:{angle_accuracy.compute()}')"
   ]
  }
 ],
 "metadata": {
  "kernelspec": {
   "display_name": "asteroids",
   "language": "python",
   "name": "asteroids"
  },
  "language_info": {
   "codemirror_mode": {
    "name": "ipython",
    "version": 3
   },
   "file_extension": ".py",
   "mimetype": "text/x-python",
   "name": "python",
   "nbconvert_exporter": "python",
   "pygments_lexer": "ipython3",
   "version": "3.10.14"
  }
 },
 "nbformat": 4,
 "nbformat_minor": 4
}
