{
 "cells": [
  {
   "cell_type": "code",
   "execution_count": 21,
   "metadata": {
    "is_executing": true
   },
   "outputs": [
    {
     "name": "stdout",
     "output_type": "stream",
     "text": [
      "Using mps device\n"
     ]
    }
   ],
   "source": [
    "import gymnasium as gym\n",
    "import numpy as np\n",
    "import torch\n",
    "import os\n",
    "import time\n",
    "import gc\n",
    "import pickle\n",
    "import torch.nn as nn\n",
    "import torch.nn.functional as F\n",
    "import torchvision\n",
    "from torch.utils.data import DataLoader, TensorDataset, Dataset\n",
    "from torchmetrics.classification import MulticlassAccuracy\n",
    "import matplotlib.pyplot as plt\n",
    "\n",
    "device = (\n",
    "    \"cuda\"\n",
    "    if torch.cuda.is_available()\n",
    "    else \"mps\"\n",
    "    if torch.backends.mps.is_available()\n",
    "    else \"cpu\"\n",
    ")\n",
    "print(f\"Using {device} device\")"
   ]
  },
  {
   "cell_type": "code",
   "execution_count": 22,
   "metadata": {},
   "outputs": [],
   "source": [
    "class Q_net(nn.Module):\n",
    "    def __init__(self, input_shape, output_size, layer_size=128, num_layers = 1, action_depth=4):\n",
    "        #input_shape is normally [210, 160] for grayscale\n",
    "        super(Q_net, self).__init__()\n",
    "        # VGG16\n",
    "        # Define shape of VGG architecture\n",
    "        # Each entry is ('Conv', num_filters, kernel_size) or ('Pool', pool_size, strides)\n",
    "        self.vgg_layers_desc = [\n",
    "            ('Conv', 64, 3), \n",
    "            ('Pool', 2, 2)\n",
    "        ]\n",
    "        current_shape = (input_shape[0], action_depth, input_shape[2], input_shape[3]) # Add channel dimension at index 1 -> (num_samples, num_channeels, width, height)\n",
    "        self.layers = nn.ModuleList()\n",
    "        for layer_idx, layer in enumerate(self.vgg_layers_desc):\n",
    "            if layer[0] == 'Conv':\n",
    "                kernel_size = layer[2]\n",
    "                out_channels = layer[1]\n",
    "                in_channels = current_shape[1]\n",
    "                self.layers.extend([\n",
    "                    nn.Conv2d(in_channels, out_channels, kernel_size, padding=1),\n",
    "                    nn.ReLU()\n",
    "                ])\n",
    "                # Update current shape\n",
    "                current_shape = (current_shape[0], out_channels, current_shape[2], current_shape[3])\n",
    "            elif layer[0] == 'Pool':\n",
    "                kernel_size = layer[1]\n",
    "                stride = layer[2]\n",
    "                self.layers.append(\n",
    "                    nn.MaxPool2d(kernel_size, stride),\n",
    "                )\n",
    "                #Update current shape\n",
    "                new_width = np.floor(current_shape[2]/2).astype(int)\n",
    "                new_height = np.floor(current_shape[3]/2).astype(int)\n",
    "                current_shape = (current_shape[0], current_shape[1], new_width, new_height)\n",
    "        current_len = int(torch.prod(torch.Tensor(current_shape[1:])))\n",
    "        self.layers.append(nn.Flatten())\n",
    "        self.layers.append(nn.Linear(current_len, layer_size))\n",
    "        self.layers.append(nn.ReLU())\n",
    "        for layer_idx in range(num_layers):\n",
    "            self.layers.extend([\n",
    "                nn.Linear(layer_size, layer_size),\n",
    "                nn.ReLU()\n",
    "            ])\n",
    "        self.layers.append(nn.Linear(layer_size, output_size))\n",
    "        self.zero_grad\n",
    "    def forward(self, x):\n",
    "        for layer_idx, layer in enumerate(self.layers):\n",
    "            x = layer(x)\n",
    "        return x"
   ]
  },
  {
   "cell_type": "code",
   "execution_count": 23,
   "metadata": {},
   "outputs": [],
   "source": [
    "class Asteroids_Dataset(Dataset):\n",
    "    def __init__(self, DQL_Agent, action_depth = 4):\n",
    "        self.env = gym.make('Asteroids-v4', obs_type=\"grayscale\")\n",
    "        obs, info = self.env.reset()\n",
    "        # Items store for each step: action, reward, next_state. Note: states starts filled with intro obs\n",
    "        actions = []\n",
    "        rewards = []\n",
    "        states = [obs] # Note, only storing each state once to save on memory, next state will just be obs at (i+1)\n",
    "        terminated = False\n",
    "        truncated = False\n",
    "        lives = 4\n",
    "        while not terminated and not truncated:\n",
    "            if np.random.rand(1) < DQL_Agent.epsilon or len(states) < action_depth:\n",
    "                # Find a random action\n",
    "                action = self.env.action_space.sample()\n",
    "            else:\n",
    "                # Find best action via current_net\n",
    "                action_probs = DQL_Agent.current_net(Asteroids_Dataset.prep_input(states[-action_depth:], action_depth))\n",
    "                action = torch.argmax(action_probs)\n",
    "            obs, reward, terminated, truncated, info = self.env.step(action)\n",
    "            # Custom reward for losing a life\n",
    "            if info['lives'] < lives:\n",
    "                reward -= 100\n",
    "                lives = info['lives']\n",
    "            actions.append(action)\n",
    "            rewards.append(reward)\n",
    "            states.append(obs)\n",
    "        # Format each data piece into the correct tensor shape for neural network\n",
    "        prepped_states = Asteroids_Dataset.prep_input(states, action_depth)\n",
    "        # current states are all but the final state\n",
    "        self.current_states = prepped_states[:-1]\n",
    "        # nexst states are all but the first state\n",
    "        self.next_states = prepped_states[1:]\n",
    "        self.rewards = torch.tensor(rewards[action_depth-1:])\n",
    "        self.actions = F.one_hot(torch.tensor(actions[action_depth-1:]), num_classes = self.env.action_space.n)\n",
    "        \n",
    "     # Reshape a list of observations into a tensor of the correct input shape\n",
    "    def prep_input(obs_list, action_depth):\n",
    "        out_tensor = torch.zeros([len(obs_list)-action_depth + 1, action_depth, 210, 160])\n",
    "        # Set first obs to iterate off of\n",
    "        for idx in range(0, action_depth):\n",
    "            out_tensor[0, idx, :, :] = torch.tensor(obs_list[idx]).to(torch.float32)\n",
    "        # Set the rest by duplicating previous Note: idx here refers to the out tensor, not the input. out_tensor[0] = obs_list[action_depth] \n",
    "        for idx in range(1, len(obs_list)-action_depth):\n",
    "            out_tensor[idx, :action_depth-1, :, :] = out_tensor[idx-1, 1:action_depth, :, :]\n",
    "            out_tensor[idx, action_depth-1, :, :] = torch.tensor(obs_list[idx+action_depth]).to(torch.float32)\n",
    "        return out_tensor\n",
    "    \n",
    "    def __len__(self):\n",
    "        return len(self.rewards)\n",
    "\n",
    "    def __getitem__(self, idx):\n",
    "        if idx < len(self):\n",
    "            return self.current_states[idx], self.next_states[idx], self.rewards[idx], self.actions[idx]\n",
    "        else:\n",
    "            return None"
   ]
  },
  {
   "cell_type": "code",
   "execution_count": 24,
   "metadata": {},
   "outputs": [],
   "source": [
    "class DQL_Agent:\n",
    "    def __init__(self, gamma, action_depth = 4):\n",
    "        self.current_net = Q_net([1, action_depth, 210, 160], 14)\n",
    "        self.next_net = Q_net([1, action_depth, 210, 160], 14)\n",
    "        self.action_depth = action_depth\n",
    "        self.gamma = gamma\n",
    "        self.epsilon = .99\n",
    "        self.num_games = 0\n",
    "    def learn(self, num_episodes, batch_size=128, lr = 1e-5, model_update_freq = 10):\n",
    "        loss_fn = nn.MSELoss()\n",
    "        optim = torch.optim.Adam(self.current_net.parameters(), lr=lr)\n",
    "        total_rewards = torch.zeros(num_episodes)\n",
    "        for episode in range(num_episodes):\n",
    "            dataset = Asteroids_Dataset(self, self.action_depth)\n",
    "            dataloader = DataLoader(dataset, batch_size=batch_size)\n",
    "            for step, [current_states, next_states, rewards, actions] in enumerate(dataloader):\n",
    "                # Note: q_pred is the current net's prediction for the q value of the current state action pair\n",
    "                # Computed by multiplying a one hot encoding of the actions by the output of network\n",
    "                # Network output has shape of [batch_size, num_actions], meaning if multiplied by one hot encoding of action space will return zero for all actions not taken\n",
    "                # Max operator is to single out the action taken from the other zeros in the row\n",
    "                q_pred, _ = torch.max(self.current_net(current_states)*actions, dim=1) \n",
    "                # Note: q_next_max is just a partial portion of q_target, being the evaluation of the next_net at the given states taken at the maximal action\n",
    "                q_next_max, _ = torch.max(self.next_net(next_states), dim=1)\n",
    "                q_target = rewards + self.gamma*q_next_max\n",
    "                # Learning portion\n",
    "                optim.zero_grad()\n",
    "                loss = loss_fn(q_target, q_pred)\n",
    "                print(f\"Episode : {episode} Batch : {step} Loss : {loss}\")\n",
    "                loss.backward()\n",
    "                optim.step()\n",
    "            if episode % model_update_freq == 0:\n",
    "                self.next_net.load_state_dict(self.current_net.state_dict())\n",
    "            self.epsilon = self.epsilon * .9999\n",
    "            total_rewards[episode] = sum(rewards)\n",
    "        self.num_games += num_episodes\n",
    "        return total_rewards\n",
    "    # Allow viewing of the best actions known by model\n",
    "    def play_and_watch(self):\n",
    "        env = gym.make('Asteroids-v4', obs_type=\"grayscale\", render_mode=\"human\")\n",
    "        obs, _ = env.reset()\n",
    "        terminated = False\n",
    "        truncated = False\n",
    "        states = self.action_depth*[obs] # Begin with action depth copies of initial observation\n",
    "        while not terminated and not truncated:\n",
    "            # Find best action via current_net\n",
    "            action_probs = self.current_net(Asteroids_Dataset.prep_input(states[-self.action_depth:], self.action_depth))\n",
    "            action = torch.argmax(action_probs)\n",
    "            obs, reward, terminated, truncated, info = env.step(action)\n",
    "            states.append(obs)\n",
    "        env.close()"
   ]
  },
  {
   "cell_type": "code",
   "execution_count": 25,
   "metadata": {},
   "outputs": [
    {
     "name": "stdout",
     "output_type": "stream",
     "text": [
      "                                                                                                                                                                                                        \n",
      "Number of games played so far:0\n"
     ]
    }
   ],
   "source": [
    "# Training loop\n",
    "version = 1\n",
    "num_episodes = 0\n",
    "model = DQL_Agent(gamma=.9)\n",
    "# # Load model if it exists\n",
    "# if os.path.isfile(f\"DQN_current_V{version}.pt\") and os.path.isfile(f\"DQN_next_V{version}.pt\") and os.path.isfile(f\"DQN_total_rewards_V{version}.txt\"):\n",
    "#     model.current_net.load_state_dict(torch.load(f\"DQN_current_V{version}.pt\"))\n",
    "#     model.next_net.load_state_dict(torch.load(f\"DQN_next_V{version}.pt\"))\n",
    "#     with open(f\"DQN_total_rewards_V{version}.txt\", \"rb\") as rewards_file:\n",
    "#         total_rewards = pickle.load(rewards_file)\n",
    "#     with open(f\"DQN_epsilon_V{version}.txt\", \"rb\") as ep_file:\n",
    "#         model.epsilon= pickle.load(ep_file)\n",
    "#     rewards_file.close()\n",
    "#     ep_file.close()\n",
    "#     model.num_games = len(total_rewards)\n",
    "# else:\n",
    "total_rewards = []\n",
    "total_rewards.extend(model.learn(num_episodes=num_episodes).tolist())\n",
    "torch.save(model.current_net.state_dict(), f\"DQN_current_V{version}.pt\")\n",
    "torch.save(model.next_net.state_dict(), f\"DQN_next_V{version}.pt\")\n",
    "with open(f\"DQN_total_rewards_V{version}.txt\", \"wb\") as rewards_file:\n",
    "    pickle.dump(total_rewards, rewards_file)\n",
    "with open(f\"DQN_epsilon_V{version}.txt\", \"wb\") as ep_file:\n",
    "    pickle.dump(model.epsilon, ep_file)\n",
    "rewards_file.close()\n",
    "ep_file.close()\n",
    "print(200*\" \")\n",
    "print(f\"Number of games played so far:{model.num_games}\")"
   ]
  },
  {
   "cell_type": "code",
   "execution_count": 26,
   "metadata": {},
   "outputs": [
    {
     "data": {
      "text/plain": [
       "<matplotlib.legend.Legend at 0x14fcc0a90>"
      ]
     },
     "execution_count": 26,
     "metadata": {},
     "output_type": "execute_result"
    },
    {
     "data": {
      "image/png": "[encoded data removed]",
      "text/plain": [
       "<Figure size 640x480 with 1 Axes>"
      ]
     },
     "metadata": {},
     "output_type": "display_data"
    }
   ],
   "source": [
    "# Generate moving average\n",
    "running_average = np.zeros(len(total_rewards))\n",
    "total = 0\n",
    "for idx, reward in enumerate(total_rewards):\n",
    "    total += reward\n",
    "    running_average[idx] = total/(idx + 1)\n",
    "# Plot model\n",
    "plt.title(f\"Rewards over time at {model.num_games} games\")\n",
    "plt.plot(total_rewards, label=\"reward\")\n",
    "plt.plot(running_average, label=\"running average\")\n",
    "plt.xlabel(\"Number of games played\")\n",
    "plt.ylabel(\"Rewards\")\n",
    "plt.legend()"
   ]
  },
  {
   "cell_type": "code",
   "execution_count": 163,
   "metadata": {},
   "outputs": [
    {
     "name": "stderr",
     "output_type": "stream",
     "text": [
      "2024-04-09 11:56:43.777 Python[38124:19522674] WARNING: Secure coding is automatically enabled for restorable state! However, not on all supported macOS versions of this application. Opt-in to secure coding explicitly by implementing NSApplicationDelegate.applicationSupportsSecureRestorableState:.\n"
     ]
    },
    {
     "ename": "",
     "evalue": "",
     "output_type": "error",
     "traceback": [
      "\u001b[1;31mThe Kernel crashed while executing code in the current cell or a previous cell. \n",
      "\u001b[1;31mPlease review the code in the cell(s) to identify a possible cause of the failure. \n",
      "\u001b[1;31mClick <a href='https://aka.ms/vscodeJupyterKernelCrash'>here</a> for more info. \n",
      "\u001b[1;31mView Jupyter <a href='command:jupyter.viewOutput'>log</a> for further details."
     ]
    }
   ],
   "source": [
    "env = gym.make('Asteroids-v4', obs_type=\"rgb\", render_mode=\"human\")\n",
    "state, _ = env.reset()\n",
    "for i in range(10):\n",
    "    while True:\n",
    "        action = env.action_space.sample()\n",
    "        state, reward, terminated, truncated, info = env.step(action)\n",
    "        if terminated or truncated:\n",
    "            break\n",
    "env.close()\n"
   ]
  },
  {
   "cell_type": "code",
   "execution_count": null,
   "metadata": {},
   "outputs": [],
   "source": []
  }
 ],
 "metadata": {
  "kernelspec": {
   "display_name": "torch-gpu-gym",
   "language": "python",
   "name": "python3"
  },
  "language_info": {
   "codemirror_mode": {
    "name": "ipython",
    "version": 3
   },
   "file_extension": ".py",
   "mimetype": "text/x-python",
   "name": "python",
   "nbconvert_exporter": "python",
   "pygments_lexer": "ipython3",
   "version": "3.9.6"
  },
  "orig_nbformat": 4,
  "vscode": {
   "interpreter": {
    "hash": "79c760212445e9d797eb65897be559438506bfcf61e7b201731a45e00fe96af4"
   }
  }
 },
 "nbformat": 4,
 "nbformat_minor": 2
}
